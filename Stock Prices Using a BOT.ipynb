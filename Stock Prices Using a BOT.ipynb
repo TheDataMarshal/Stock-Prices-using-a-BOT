{
 "cells": [
  {
   "cell_type": "code",
   "execution_count": 1,
   "metadata": {},
   "outputs": [],
   "source": [
    "import requests\n",
    "from bs4 import BeautifulSoup\n",
    "import pandas as pd\n",
    "import nltk\n",
    "import random\n",
    "import pprint"
   ]
  },
  {
   "cell_type": "code",
   "execution_count": 2,
   "metadata": {},
   "outputs": [],
   "source": [
    "All_URLs = pd.read_csv('https://raw.githubusercontent.com/TheDataMarshal/Stock-Prices-using-a-BOT/master/Company_URLs.csv')"
   ]
  },
  {
   "cell_type": "code",
   "execution_count": 3,
   "metadata": {},
   "outputs": [],
   "source": [
    "Company_count = dict(zip(All_URLs.Sr_no,All_URLs.Company_Name))\n",
    "Company_urls = dict(zip(All_URLs.Company_Name, All_URLs.URL))\n",
    "number_of_companies = All_URLs['Sr_no'].tolist()\n",
    "choices = ['Yes', 'No']"
   ]
  },
  {
   "cell_type": "code",
   "execution_count": 4,
   "metadata": {},
   "outputs": [],
   "source": [
    "def Take_Requirement():\n",
    "    requirement = input(\"Would you like to see the list of Stocks I can fetch the prices for? \" + choices[0] + \" or \" + choices[1] + \": \")\n",
    "    return requirement"
   ]
  },
  {
   "cell_type": "code",
   "execution_count": 5,
   "metadata": {},
   "outputs": [],
   "source": [
    "def Take_input():\n",
    "    message = input(\"Please enter the Sr. No. of the Company: \")\n",
    "    return int(message)"
   ]
  },
  {
   "cell_type": "code",
   "execution_count": 6,
   "metadata": {},
   "outputs": [],
   "source": [
    "def send_message(message):\n",
    "    print(\"StockBOT: Thank you for selecting \" + Company_count[message])\n",
    "    share_price = Fetch_Price(message)\n",
    "    # Print the bot template including the bot's response.\n",
    "    print(bot_template.format(share_price))"
   ]
  },
  {
   "cell_type": "code",
   "execution_count": 7,
   "metadata": {},
   "outputs": [],
   "source": [
    "def Fetch_Price(Company_Number):\n",
    "    if Company_Number in number_of_companies:\n",
    "        URL = Company_urls[Company_count[Company_Number]]\n",
    "        headers = {\"User-Agent\" : \"Mozilla/5.0 (Windows NT 10.0; Win64; x64) AppleWebKit/537.36 (KHTML, like Gecko) Chrome/83.0.4103.116 Safari/537.36\"}\n",
    "        page = requests.get(URL, headers= headers)\n",
    "        soup = BeautifulSoup(page.content, \"html.parser\")\n",
    "        idsection = soup.find(id=\"bseTradeprice\").get_text()\n",
    "        return \"The Cost of a Share of \" + Company_count[Company_Number] +\" is \"+ idsection + \" right now.\"\n",
    "    else:\n",
    "        print(\"Please enter a valid Serial Number\")\n",
    "        Sr_No = Take_input()\n",
    "        return Fetch_Price(Sr_No)\n",
    "    "
   ]
  },
  {
   "cell_type": "code",
   "execution_count": 8,
   "metadata": {},
   "outputs": [],
   "source": [
    "def Run_Bot():\n",
    "    requirement = Take_Requirement()\n",
    "    if requirement in choices:\n",
    "        if requirement == 'Yes':\n",
    "            List_of_Companies = pprint.pprint(Company_count)\n",
    "            Sr_No = Take_input()\n",
    "            return Fetch_Price(Sr_No)\n",
    "        else:\n",
    "            Sr_No = Take_input()\n",
    "            return Fetch_Price(Sr_No)\n",
    "    else:\n",
    "        print(\"Please enter a Valid answer.\")\n",
    "        return Run_Bot()"
   ]
  },
  {
   "cell_type": "code",
   "execution_count": 9,
   "metadata": {},
   "outputs": [
    {
     "name": "stdout",
     "output_type": "stream",
     "text": [
      "Would you like to see the list of Stocks I can fetch the prices for? Yes or No: y\n",
      "Please enter a Valid answer.\n",
      "Would you like to see the list of Stocks I can fetch the prices for? Yes or No: Yes\n",
      "{1: 'Reliance',\n",
      " 2: 'Bharati Airtel',\n",
      " 3: 'Hero MotoCorp Ltd.',\n",
      " 4: 'Bajaj Auto Ltd.',\n",
      " 5: 'Tata Consultancy Services Ltd.',\n",
      " 6: 'Titan Company Ltd.',\n",
      " 7: 'Axis Bank Ltd.',\n",
      " 8: 'Tech Mahindra Ltd.',\n",
      " 9: 'Hindustan Unilever Ltd.',\n",
      " 10: 'Infosys Ltd.',\n",
      " 11: 'Sun Pharmaceutical Industries Ltd.',\n",
      " 12: 'Oil And Natural Gas Corporation Ltd.',\n",
      " 13: 'Larsen & Toubro Ltd.',\n",
      " 14: 'Kotak Mahindra Bank Ltd.',\n",
      " 15: 'Housing Development Finance Corporation Ltd.'}\n",
      "Please enter the Sr. No. of the Company: 23\n",
      "Please enter a valid Serial Number\n",
      "Please enter the Sr. No. of the Company: 12\n"
     ]
    },
    {
     "data": {
      "text/plain": [
       "'The Cost of a Share of Oil And Natural Gas Corporation Ltd. is 82.40 right now.'"
      ]
     },
     "execution_count": 9,
     "metadata": {},
     "output_type": "execute_result"
    }
   ],
   "source": [
    "Run_Bot()"
   ]
  }
 ],
 "metadata": {
  "kernelspec": {
   "display_name": "Python 3",
   "language": "python",
   "name": "python3"
  },
  "language_info": {
   "codemirror_mode": {
    "name": "ipython",
    "version": 3
   },
   "file_extension": ".py",
   "mimetype": "text/x-python",
   "name": "python",
   "nbconvert_exporter": "python",
   "pygments_lexer": "ipython3",
   "version": "3.7.4"
  }
 },
 "nbformat": 4,
 "nbformat_minor": 4
}
